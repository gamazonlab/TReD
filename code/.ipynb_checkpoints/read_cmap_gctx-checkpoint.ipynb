{
 "cells": [
  {
   "cell_type": "code",
   "execution_count": 1,
   "id": "5d25b330",
   "metadata": {},
   "outputs": [
    {
     "name": "stdout",
     "output_type": "stream",
     "text": [
      "Defaulting to user installation because normal site-packages is not writeable\n",
      "\u001b[33mWARNING: Ignoring invalid distribution -umpy (/gpfs52/home/zhoud2/.local/lib/python3.9/site-packages)\u001b[0m\n",
      "\u001b[33mWARNING: Ignoring invalid distribution -umpy (/gpfs52/home/zhoud2/.local/lib/python3.9/site-packages)\u001b[0m\n",
      "Requirement already satisfied: cmapPy in /gpfs52/home/zhoud2/.local/lib/python3.9/site-packages (4.0.1)\n",
      "Requirement already satisfied: requests>=2.13.0 in /cvmfs/oasis.opensciencegrid.org/accre/mirror/common/easybuild/software/Anaconda3/2022.05/lib/python3.9/site-packages (from cmapPy) (2.27.1)\n",
      "Requirement already satisfied: numpy>=1.11.2 in /gpfs52/home/zhoud2/.local/lib/python3.9/site-packages (from cmapPy) (1.21.5)\n",
      "Requirement already satisfied: six in /cvmfs/oasis.opensciencegrid.org/accre/mirror/common/easybuild/software/Anaconda3/2022.05/lib/python3.9/site-packages (from cmapPy) (1.16.0)\n",
      "Requirement already satisfied: pandas>=0.18 in /cvmfs/oasis.opensciencegrid.org/accre/mirror/common/easybuild/software/Anaconda3/2022.05/lib/python3.9/site-packages (from cmapPy) (1.4.2)\n",
      "Requirement already satisfied: h5py>=2.6.0 in /cvmfs/oasis.opensciencegrid.org/accre/mirror/common/easybuild/software/Anaconda3/2022.05/lib/python3.9/site-packages (from cmapPy) (3.6.0)\n",
      "Requirement already satisfied: python-dateutil>=2.8.1 in /cvmfs/oasis.opensciencegrid.org/accre/mirror/common/easybuild/software/Anaconda3/2022.05/lib/python3.9/site-packages (from pandas>=0.18->cmapPy) (2.8.2)\n",
      "Requirement already satisfied: pytz>=2020.1 in /cvmfs/oasis.opensciencegrid.org/accre/mirror/common/easybuild/software/Anaconda3/2022.05/lib/python3.9/site-packages (from pandas>=0.18->cmapPy) (2021.3)\n",
      "Requirement already satisfied: urllib3<1.27,>=1.21.1 in /cvmfs/oasis.opensciencegrid.org/accre/mirror/common/easybuild/software/Anaconda3/2022.05/lib/python3.9/site-packages (from requests>=2.13.0->cmapPy) (1.26.9)\n",
      "Requirement already satisfied: idna<4,>=2.5 in /cvmfs/oasis.opensciencegrid.org/accre/mirror/common/easybuild/software/Anaconda3/2022.05/lib/python3.9/site-packages (from requests>=2.13.0->cmapPy) (3.3)\n",
      "Requirement already satisfied: charset-normalizer~=2.0.0 in /cvmfs/oasis.opensciencegrid.org/accre/mirror/common/easybuild/software/Anaconda3/2022.05/lib/python3.9/site-packages (from requests>=2.13.0->cmapPy) (2.0.4)\n",
      "Requirement already satisfied: certifi>=2017.4.17 in /cvmfs/oasis.opensciencegrid.org/accre/mirror/common/easybuild/software/Anaconda3/2022.05/lib/python3.9/site-packages (from requests>=2.13.0->cmapPy) (2021.10.8)\n",
      "\u001b[33mWARNING: Ignoring invalid distribution -umpy (/gpfs52/home/zhoud2/.local/lib/python3.9/site-packages)\u001b[0m\n",
      "\u001b[33mWARNING: Ignoring invalid distribution -umpy (/gpfs52/home/zhoud2/.local/lib/python3.9/site-packages)\u001b[0m\n",
      "\u001b[33mWARNING: Ignoring invalid distribution -umpy (/gpfs52/home/zhoud2/.local/lib/python3.9/site-packages)\u001b[0m\n",
      "\u001b[33mWARNING: Ignoring invalid distribution -umpy (/gpfs52/home/zhoud2/.local/lib/python3.9/site-packages)\u001b[0m\n"
     ]
    }
   ],
   "source": [
    "!pip install cmapPy"
   ]
  },
  {
   "cell_type": "code",
   "execution_count": 14,
   "id": "fcb66e24",
   "metadata": {},
   "outputs": [],
   "source": [
    "from cmapPy.pandasGEXpress.parse import parse"
   ]
  },
  {
   "cell_type": "code",
   "execution_count": null,
   "id": "9bb4b9ac",
   "metadata": {},
   "outputs": [],
   "source": [
    "gctx_file = \"/gpfs52/data/g_gamazon_lab/zhoud2/data/cmap/raw/LINCS/LINCS2_beta/level5_beta_trt_cp_n720216x12328.gctx\"\n",
    "gctx_data = parse(gctx_file)\n",
    "# Access the expression matrix\n",
    "expression_matrix = gctx_data.data_df\n",
    "# Access the sample information\n",
    "sample_info = gctx_data.col_metadata_df\n",
    "# Access the row (gene) information\n",
    "row_info = gctx_data.row_metadata_df\n",
    "np.save('/gpfs52/data/g_gamazon_lab/zhoud2/data/cmap/raw/LINCS/LINCS2_beta/exp_mat.npy', expression_matrix)\n",
    "np.save('/gpfs52/data/g_gamazon_lab/zhoud2/data/cmap/raw/LINCS/LINCS2_beta/sam_info.npy', sample_info)\n",
    "np.save('/gpfs52/data/g_gamazon_lab/zhoud2/data/cmap/raw/LINCS/LINCS2_beta/row_info.npy', row_info)"
   ]
  },
  {
   "cell_type": "code",
   "execution_count": null,
   "id": "de3eec26",
   "metadata": {},
   "outputs": [],
   "source": [
    "import numpy as np\n",
    "exp_mat = np.load('/gpfs52/data/g_gamazon_lab/zhoud2/data/cmap/raw/LINCS/LINCS2_beta/exp_mat.npy', allow_pickle=True).item()"
   ]
  },
  {
   "cell_type": "code",
   "execution_count": null,
   "id": "da7d254d",
   "metadata": {},
   "outputs": [],
   "source": [
    "a = np.memmap('/gpfs52/data/g_gamazon_lab/zhoud2/data/cmap/raw/LINCS/LINCS2_beta/exp_mat.npy', dtype='float32', mode='r')"
   ]
  }
 ],
 "metadata": {
  "kernelspec": {
   "display_name": "Python 3 (ipykernel)",
   "language": "python",
   "name": "python3"
  },
  "language_info": {
   "codemirror_mode": {
    "name": "ipython",
    "version": 3
   },
   "file_extension": ".py",
   "mimetype": "text/x-python",
   "name": "python",
   "nbconvert_exporter": "python",
   "pygments_lexer": "ipython3",
   "version": "3.9.12"
  }
 },
 "nbformat": 4,
 "nbformat_minor": 5
}
